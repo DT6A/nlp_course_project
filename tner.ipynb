{
  "cells": [
    {
      "cell_type": "code",
      "execution_count": null,
      "metadata": {
        "id": "fjcjbnrPkqkp"
      },
      "outputs": [],
      "source": [
        "%pip install tner"
      ]
    },
    {
      "cell_type": "code",
      "execution_count": null,
      "metadata": {
        "id": "8skxKuFzkKDW"
      },
      "outputs": [],
      "source": [
        "from tner import get_dataset\n",
        "\n",
        "data, label2id = get_dataset(local_dataset={\n",
        "    \"train\": \"train.txt\",\n",
        "    \"valid\": \"valid.txt\",\n",
        "})"
      ]
    },
    {
      "cell_type": "code",
      "execution_count": null,
      "metadata": {
        "colab": {
          "base_uri": "https://localhost:8080/"
        },
        "id": "Co21o0mTkh7S",
        "outputId": "b3e6e045-fecb-4dfb-c1d6-3ac4b8a0edc6"
      },
      "outputs": [
        {
          "output_type": "stream",
          "name": "stderr",
          "text": [
            "Some weights of the model checkpoint at roberta-large were not used when initializing RobertaForTokenClassification: ['lm_head.dense.bias', 'lm_head.bias', 'lm_head.layer_norm.bias', 'lm_head.layer_norm.weight', 'lm_head.decoder.weight', 'lm_head.dense.weight']\n",
            "- This IS expected if you are initializing RobertaForTokenClassification from the checkpoint of a model trained on another task or with another architecture (e.g. initializing a BertForSequenceClassification model from a BertForPreTraining model).\n",
            "- This IS NOT expected if you are initializing RobertaForTokenClassification from the checkpoint of a model that you expect to be exactly identical (initializing a BertForSequenceClassification model from a BertForSequenceClassification model).\n",
            "Some weights of RobertaForTokenClassification were not initialized from the model checkpoint at roberta-large and are newly initialized: ['classifier.bias', 'classifier.weight']\n",
            "You should probably TRAIN this model on a down-stream task to be able to use it for predictions and inference.\n",
            "WARNING:root:concat_label2id is specified {'B-ART': 0, 'I-ART': 1, 'O': 2} but not changed as is only one dataset\n",
            "100%|██████████| 35/35 [00:17<00:00,  2.00it/s]\n",
            "WARNING:root:config is overwritten by ./ckpt_tner/model_yegjmz/epoch_5\n",
            "WARNING:root:concat_label2id is specified {'B-ART': 0, 'I-ART': 1, 'O': 2} but not changed as is only one dataset\n",
            "WARNING:root:concat_label2id is specified {'B-ART': 0, 'I-ART': 1, 'O': 2} but not changed as is only one dataset\n",
            "100%|██████████| 35/35 [00:17<00:00,  2.02it/s]\n",
            "WARNING:root:concat_label2id is specified {'B-ART': 0, 'I-ART': 1, 'O': 2} but not changed as is only one dataset\n",
            "100%|██████████| 35/35 [00:18<00:00,  1.90it/s]\n",
            "WARNING:root:concat_label2id is specified {'B-ART': 0, 'I-ART': 1, 'O': 2} but not changed as is only one dataset\n",
            "100%|██████████| 35/35 [00:17<00:00,  2.00it/s]\n",
            "WARNING:root:concat_label2id is specified {'B-ART': 0, 'I-ART': 1, 'O': 2} but not changed as is only one dataset\n",
            "100%|██████████| 35/35 [00:17<00:00,  2.01it/s]\n",
            "WARNING:root:concat_label2id is specified {'B-ART': 0, 'I-ART': 1, 'O': 2} but not changed as is only one dataset\n",
            "100%|██████████| 35/35 [00:17<00:00,  1.97it/s]\n",
            "WARNING:root:concat_label2id is specified {'B-ART': 0, 'I-ART': 1, 'O': 2} but not changed as is only one dataset\n",
            "100%|██████████| 35/35 [00:17<00:00,  2.01it/s]\n",
            "WARNING:root:concat_label2id is specified {'B-ART': 0, 'I-ART': 1, 'O': 2} but not changed as is only one dataset\n",
            "100%|██████████| 35/35 [00:17<00:00,  2.00it/s]\n",
            "WARNING:root:concat_label2id is specified {'B-ART': 0, 'I-ART': 1, 'O': 2} but not changed as is only one dataset\n",
            "100%|██████████| 35/35 [00:17<00:00,  2.00it/s]\n",
            "WARNING:root:concat_label2id is specified {'B-ART': 0, 'I-ART': 1, 'O': 2} but not changed as is only one dataset\n",
            "100%|██████████| 35/35 [00:17<00:00,  1.95it/s]\n"
          ]
        }
      ],
      "source": [
        "from tner import GridSearcher\n",
        "searcher = GridSearcher(\n",
        "   checkpoint_dir='./ckpt_tner',\n",
        "   local_dataset={\n",
        "    \"train\": \"all_data.txt\",\n",
        "    \"valid\": \"all_data.txt\",\n",
        "    \"validation\": \"all_data.txt\",\n",
        "    \"test\": \"all_data.txt\",\n",
        "},  # either of `dataset` (huggingface dataset) or `local_dataset` (custom dataset) should be given\n",
        "   model=\"roberta-large\",  # language model to fine-tune\n",
        "   epoch=10,  # the total epoch (`L` in the figure)\n",
        "   epoch_partial=5,  # the number of epoch at 1st stage (`M` in the figure)\n",
        "   n_max_config=3,  # the number of models to pass to 2nd stage (`K` in the figure)\n",
        "   batch_size=16,\n",
        "   gradient_accumulation_steps=4,\n",
        "   crf=True,\n",
        "   lr=1e-4,\n",
        "   weight_decay=1e-7,\n",
        "   random_seed=42,\n",
        "   lr_warmup_step_ratio=0.1,\n",
        "   max_grad_norm=10,  \n",
        ")\n",
        "searcher.train()"
      ]
    },
    {
      "cell_type": "code",
      "execution_count": null,
      "metadata": {
        "id": "pzRiioA-lOCk",
        "colab": {
          "base_uri": "https://localhost:8080/"
        },
        "outputId": "609ac5f9-3ae3-4ae2-9042-0e2acb61626e"
      },
      "outputs": [
        {
          "output_type": "execute_result",
          "data": {
            "text/plain": [
              "{'B-ART': 0, 'O': 1}"
            ]
          },
          "metadata": {},
          "execution_count": 2
        }
      ],
      "source": [
        "label2id"
      ]
    },
    {
      "cell_type": "code",
      "source": [
        "!zip "
      ],
      "metadata": {
        "id": "8eNYVAwMUxtX"
      },
      "execution_count": null,
      "outputs": []
    },
    {
      "cell_type": "code",
      "source": [
        "from google.colab import drive\n",
        "drive.mount('/content/drive')"
      ],
      "metadata": {
        "colab": {
          "base_uri": "https://localhost:8080/"
        },
        "id": "CrlaCazNSeuZ",
        "outputId": "7e46d06b-c098-48a9-9adb-69eddf987190"
      },
      "execution_count": null,
      "outputs": [
        {
          "output_type": "stream",
          "name": "stdout",
          "text": [
            "Mounted at /content/drive\n"
          ]
        }
      ]
    },
    {
      "cell_type": "code",
      "source": [
        "!cp -r ckpt_tner/best_model ./drive/MyDrive/"
      ],
      "metadata": {
        "id": "WjH1UW8JSfUW"
      },
      "execution_count": null,
      "outputs": []
    },
    {
      "cell_type": "code",
      "source": [
        "from tner import TransformersNER\n",
        "model = TransformersNER(\"ckpt_tner/best_model\", crf=True, label2id=label2id)"
      ],
      "metadata": {
        "id": "fVhSsjr1Svg_"
      },
      "execution_count": null,
      "outputs": []
    },
    {
      "cell_type": "code",
      "source": [
        "output = model.predict([\"This bedroom is extremely spare, with dirty laundry scattered haphazardly all over the floor. Cleaner clothing can be found in the dresser. A bathroom lies to the south, while a door to the east leads to the living room. This is a far from luxurious but still quite functional bathroom, with a sink, toilet and shower. The bedroom lies to the north.\"])  # give a list of sentences (or tokenized sentence) \n",
        "print(output)"
      ],
      "metadata": {
        "colab": {
          "base_uri": "https://localhost:8080/"
        },
        "id": "eV2pvVCmTlRw",
        "outputId": "aedfca58-b33f-40a8-fcac-9095c49bc19a"
      },
      "execution_count": null,
      "outputs": [
        {
          "output_type": "stream",
          "name": "stderr",
          "text": [
            "100%|██████████| 1/1 [00:00<00:00, 11.57it/s]"
          ]
        },
        {
          "output_type": "stream",
          "name": "stdout",
          "text": [
            "{'prediction': [['O', 'B-ART', 'O', 'O', 'O', 'O', 'O', 'B-ART', 'O', 'O', 'O', 'O', 'O', 'O', 'O', 'B-ART', 'O', 'O', 'O', 'O', 'O', 'B-ART', 'O', 'B-ART', 'O', 'O', 'O', 'O', 'O', 'O', 'O', 'O', 'O', 'O', 'O', 'O', 'O', 'O', 'O', 'O', 'O', 'O', 'O', 'O', 'O', 'O', 'O', 'O', 'O', 'B-ART', 'O', 'O', 'B-ART', 'I-ART', 'I-ART', 'I-ART', 'O', 'B-ART', 'O', 'O', 'O', 'O']], 'probability': [[0.9999959468841553, 0.9047276973724365, 0.9999914169311523, 0.9999426603317261, 0.9883757829666138, 0.9993937015533447, 0.5918826460838318, 0.7228749990463257, 0.9968665242195129, 0.999699592590332, 0.9999459981918335, 0.9999858140945435, 0.9999973773956299, 0.9990460276603699, 0.960500955581665, 0.7891018390655518, 0.9999858140945435, 0.9999922513961792, 0.9999383687973022, 0.999987006187439, 0.9999898672103882, 0.9907095432281494, 0.9999960660934448, 0.5267599821090698, 0.9991040825843811, 0.9999945163726807, 0.9999973773956299, 0.9999873638153076, 0.9997988343238831, 0.9999831914901733, 0.7740373611450195, 0.9999933242797852, 0.9999970197677612, 0.9999936819076538, 0.9994989633560181, 0.9999967813491821, 0.9999984502792358, 0.9854236245155334, 0.9873472452163696, 0.9999945163726807, 0.9999964237213135, 0.9999948740005493, 0.9987678527832031, 0.9997755885124207, 0.9965840578079224, 0.9988699555397034, 0.9996751546859741, 0.9996789693832397, 0.9965903759002686, 0.6154179573059082, 0.9996283054351807, 0.9999396800994873, 0.9909054040908813, 0.9976859092712402, 0.9886664152145386, 0.9722254276275635, 0.9999979734420776, 0.7728251218795776, 0.9993810653686523, 0.9999945163726807, 0.9999973773956299, 0.9999929666519165]], 'input': [['This', 'bedroom', 'is', 'extremely', 'spare,', 'with', 'dirty', 'laundry', 'scattered', 'haphazardly', 'all', 'over', 'the', 'floor.', 'Cleaner', 'clothing', 'can', 'be', 'found', 'in', 'the', 'dresser.', 'A', 'bathroom', 'lies', 'to', 'the', 'south,', 'while', 'a', 'door', 'to', 'the', 'east', 'leads', 'to', 'the', 'living', 'room.', 'This', 'is', 'a', 'far', 'from', 'luxurious', 'but', 'still', 'quite', 'functional', 'bathroom,', 'with', 'a', 'sink,', 'toilet', 'and', 'shower.', 'The', 'bedroom', 'lies', 'to', 'the', 'north.']], 'entity_prediction': [[{'type': 'ART', 'entity': ['bedroom'], 'position': [1], 'probability': [0.9047276973724365]}, {'type': 'ART', 'entity': ['laundry'], 'position': [7], 'probability': [0.7228749990463257]}, {'type': 'ART', 'entity': ['clothing'], 'position': [15], 'probability': [0.7891018390655518]}, {'type': 'ART', 'entity': ['dresser.'], 'position': [21], 'probability': [0.9907095432281494]}, {'type': 'ART', 'entity': ['bathroom'], 'position': [23], 'probability': [0.5267599821090698]}, {'type': 'ART', 'entity': ['bathroom,'], 'position': [49], 'probability': [0.6154179573059082]}, {'type': 'ART', 'entity': ['sink,', 'toilet', 'and', 'shower.'], 'position': [52, 53, 54, 55], 'probability': [0.9909054040908813, 0.9976859092712402, 0.9886664152145386, 0.9722254276275635]}, {'type': 'ART', 'entity': ['bedroom'], 'position': [57], 'probability': [0.7728251218795776]}]]}\n"
          ]
        },
        {
          "output_type": "stream",
          "name": "stderr",
          "text": [
            "\n"
          ]
        }
      ]
    },
    {
      "cell_type": "code",
      "source": [
        "#This [bedroom] is extremely spare, with [dirty laundry] scattered haphazardly all over the floor. Cleaner [clothing] can be found in the [dresser]. A [bathroom] lies to the south, while a [door] to the east leads to the [living room]. This is a far from luxurious but still quite functional [bathroom], with a [sink, toilet and shower]. The [bedroom] lies to the north."
      ],
      "metadata": {
        "id": "b12T2UfJULkV"
      },
      "execution_count": null,
      "outputs": []
    }
  ],
  "metadata": {
    "accelerator": "GPU",
    "colab": {
      "provenance": []
    },
    "gpuClass": "standard",
    "kernelspec": {
      "display_name": "Python 3",
      "name": "python3"
    },
    "language_info": {
      "name": "python"
    }
  },
  "nbformat": 4,
  "nbformat_minor": 0
}