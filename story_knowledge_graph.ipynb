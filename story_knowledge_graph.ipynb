{
  "nbformat": 4,
  "nbformat_minor": 0,
  "metadata": {
    "colab": {
      "provenance": []
    },
    "kernelspec": {
      "name": "python3",
      "display_name": "Python 3"
    },
    "language_info": {
      "name": "python"
    }
  },
  "cells": [
    {
      "cell_type": "code",
      "execution_count": 1,
      "metadata": {
        "id": "gbv1-N4kicW0",
        "colab": {
          "base_uri": "https://localhost:8080/"
        },
        "outputId": "3fb54cd5-bc30-4001-abd3-46738ad1b2d9"
      },
      "outputs": [
        {
          "output_type": "stream",
          "name": "stdout",
          "text": [
            "Looking in indexes: https://pypi.org/simple, https://us-python.pkg.dev/colab-wheels/public/simple/\n",
            "Collecting tner\n",
            "  Downloading tner-0.2.1.tar.gz (2.2 MB)\n",
            "\u001b[K     |████████████████████████████████| 2.2 MB 8.9 MB/s \n",
            "\u001b[?25hRequirement already satisfied: torch in /usr/local/lib/python3.8/dist-packages (from tner) (1.13.0+cu116)\n",
            "Collecting allennlp>=2.0.0\n",
            "  Downloading allennlp-2.10.1-py3-none-any.whl (730 kB)\n",
            "\u001b[K     |████████████████████████████████| 730 kB 47.7 MB/s \n",
            "\u001b[?25hCollecting transformers\n",
            "  Downloading transformers-4.25.1-py3-none-any.whl (5.8 MB)\n",
            "\u001b[K     |████████████████████████████████| 5.8 MB 63.0 MB/s \n",
            "\u001b[?25hCollecting sentencepiece\n",
            "  Downloading sentencepiece-0.1.97-cp38-cp38-manylinux_2_17_x86_64.manylinux2014_x86_64.whl (1.3 MB)\n",
            "\u001b[K     |████████████████████████████████| 1.3 MB 57.9 MB/s \n",
            "\u001b[?25hCollecting seqeval\n",
            "  Downloading seqeval-1.2.2.tar.gz (43 kB)\n",
            "\u001b[K     |████████████████████████████████| 43 kB 2.6 MB/s \n",
            "\u001b[?25hCollecting datasets\n",
            "  Downloading datasets-2.7.1-py3-none-any.whl (451 kB)\n",
            "\u001b[K     |████████████████████████████████| 451 kB 43.7 MB/s \n",
            "\u001b[?25hRequirement already satisfied: scikit-learn>=1.0.1 in /usr/local/lib/python3.8/dist-packages (from allennlp>=2.0.0->tner) (1.0.2)\n",
            "Requirement already satisfied: traitlets>5.1.1 in /usr/local/lib/python3.8/dist-packages (from allennlp>=2.0.0->tner) (5.6.0)\n",
            "Collecting termcolor==1.1.0\n",
            "  Downloading termcolor-1.1.0.tar.gz (3.9 kB)\n",
            "Collecting jsonnet>=0.10.0\n",
            "  Downloading jsonnet-0.19.1.tar.gz (593 kB)\n",
            "\u001b[K     |████████████████████████████████| 593 kB 48.6 MB/s \n",
            "\u001b[?25hCollecting huggingface-hub>=0.0.16\n",
            "  Downloading huggingface_hub-0.11.1-py3-none-any.whl (182 kB)\n",
            "\u001b[K     |████████████████████████████████| 182 kB 62.2 MB/s \n",
            "\u001b[?25hCollecting requests>=2.28\n",
            "  Downloading requests-2.28.1-py3-none-any.whl (62 kB)\n",
            "\u001b[K     |████████████████████████████████| 62 kB 1.8 MB/s \n",
            "\u001b[?25hRequirement already satisfied: protobuf<4.0.0,>=3.12.0 in /usr/local/lib/python3.8/dist-packages (from allennlp>=2.0.0->tner) (3.19.6)\n",
            "Collecting tensorboardX>=1.2\n",
            "  Downloading tensorboardX-2.5.1-py2.py3-none-any.whl (125 kB)\n",
            "\u001b[K     |████████████████████████████████| 125 kB 90.1 MB/s \n",
            "\u001b[?25hCollecting lmdb>=1.2.1\n",
            "  Downloading lmdb-1.4.0-cp38-cp38-manylinux_2_12_x86_64.manylinux2010_x86_64.whl (306 kB)\n",
            "\u001b[K     |████████████████████████████████| 306 kB 65.0 MB/s \n",
            "\u001b[?25hCollecting filelock<3.8,>=3.3\n",
            "  Downloading filelock-3.7.1-py3-none-any.whl (10 kB)\n",
            "Collecting torch\n",
            "  Downloading torch-1.12.1-cp38-cp38-manylinux1_x86_64.whl (776.3 MB)\n",
            "\u001b[K     |████████████████████████████████| 776.3 MB 1.2 kB/s \n",
            "\u001b[?25hRequirement already satisfied: typer>=0.4.1 in /usr/local/lib/python3.8/dist-packages (from allennlp>=2.0.0->tner) (0.7.0)\n",
            "Requirement already satisfied: nltk>=3.6.5 in /usr/local/lib/python3.8/dist-packages (from allennlp>=2.0.0->tner) (3.7)\n",
            "Requirement already satisfied: numpy>=1.21.4 in /usr/local/lib/python3.8/dist-packages (from allennlp>=2.0.0->tner) (1.21.6)\n",
            "Collecting h5py>=3.6.0\n",
            "  Downloading h5py-3.7.0-cp38-cp38-manylinux_2_12_x86_64.manylinux2010_x86_64.whl (4.5 MB)\n",
            "\u001b[K     |████████████████████████████████| 4.5 MB 62.7 MB/s \n",
            "\u001b[?25hCollecting wandb<0.13.0,>=0.10.0\n",
            "  Downloading wandb-0.12.21-py2.py3-none-any.whl (1.8 MB)\n",
            "\u001b[K     |████████████████████████████████| 1.8 MB 62.3 MB/s \n",
            "\u001b[?25hCollecting sacremoses\n",
            "  Downloading sacremoses-0.0.53.tar.gz (880 kB)\n",
            "\u001b[K     |████████████████████████████████| 880 kB 61.7 MB/s \n",
            "\u001b[?25hCollecting transformers\n",
            "  Downloading transformers-4.20.1-py3-none-any.whl (4.4 MB)\n",
            "\u001b[K     |████████████████████████████████| 4.4 MB 52.2 MB/s \n",
            "\u001b[?25hCollecting pytest>=6.2.5\n",
            "  Downloading pytest-7.2.0-py3-none-any.whl (316 kB)\n",
            "\u001b[K     |████████████████████████████████| 316 kB 52.0 MB/s \n",
            "\u001b[?25hCollecting base58>=2.1.1\n",
            "  Downloading base58-2.1.1-py3-none-any.whl (5.6 kB)\n",
            "Collecting torchvision<0.14.0,>=0.8.1\n",
            "  Downloading torchvision-0.13.1-cp38-cp38-manylinux1_x86_64.whl (19.1 MB)\n",
            "\u001b[K     |████████████████████████████████| 19.1 MB 20 kB/s \n",
            "\u001b[?25hRequirement already satisfied: scipy>=1.7.3 in /usr/local/lib/python3.8/dist-packages (from allennlp>=2.0.0->tner) (1.7.3)\n",
            "Requirement already satisfied: tqdm>=4.62 in /usr/local/lib/python3.8/dist-packages (from allennlp>=2.0.0->tner) (4.64.1)\n",
            "Collecting fairscale==0.4.6\n",
            "  Downloading fairscale-0.4.6.tar.gz (248 kB)\n",
            "\u001b[K     |████████████████████████████████| 248 kB 61.6 MB/s \n",
            "\u001b[?25h  Installing build dependencies ... \u001b[?25l\u001b[?25hdone\n",
            "  Getting requirements to build wheel ... \u001b[?25l\u001b[?25hdone\n",
            "  Installing backend dependencies ... \u001b[?25l\u001b[?25hdone\n",
            "    Preparing wheel metadata ... \u001b[?25l\u001b[?25hdone\n",
            "Requirement already satisfied: dill>=0.3.4 in /usr/local/lib/python3.8/dist-packages (from allennlp>=2.0.0->tner) (0.3.6)\n",
            "Requirement already satisfied: more-itertools>=8.12.0 in /usr/local/lib/python3.8/dist-packages (from allennlp>=2.0.0->tner) (9.0.0)\n",
            "Collecting spacy<3.4,>=2.1.0\n",
            "  Downloading spacy-3.3.1-cp38-cp38-manylinux_2_17_x86_64.manylinux2014_x86_64.whl (6.5 MB)\n",
            "\u001b[K     |████████████████████████████████| 6.5 MB 67.9 MB/s \n",
            "\u001b[?25hCollecting cached-path<1.2.0,>=1.1.3\n",
            "  Downloading cached_path-1.1.6-py3-none-any.whl (26 kB)\n",
            "Collecting rich<13.0,>=12.1\n",
            "  Downloading rich-12.6.0-py3-none-any.whl (237 kB)\n",
            "\u001b[K     |████████████████████████████████| 237 kB 75.7 MB/s \n",
            "\u001b[?25hCollecting huggingface-hub>=0.0.16\n",
            "  Downloading huggingface_hub-0.10.1-py3-none-any.whl (163 kB)\n",
            "\u001b[K     |████████████████████████████████| 163 kB 65.2 MB/s \n",
            "\u001b[?25hRequirement already satisfied: google-cloud-storage<3.0,>=1.32.0 in /usr/local/lib/python3.8/dist-packages (from cached-path<1.2.0,>=1.1.3->allennlp>=2.0.0->tner) (2.5.0)\n",
            "Collecting boto3<2.0,>=1.0\n",
            "  Downloading boto3-1.26.30-py3-none-any.whl (132 kB)\n",
            "\u001b[K     |████████████████████████████████| 132 kB 70.2 MB/s \n",
            "\u001b[?25hCollecting botocore<1.30.0,>=1.29.30\n",
            "  Downloading botocore-1.29.30-py3-none-any.whl (10.3 MB)\n",
            "\u001b[K     |████████████████████████████████| 10.3 MB 52.9 MB/s \n",
            "\u001b[?25hCollecting s3transfer<0.7.0,>=0.6.0\n",
            "  Downloading s3transfer-0.6.0-py3-none-any.whl (79 kB)\n",
            "\u001b[K     |████████████████████████████████| 79 kB 9.6 MB/s \n",
            "\u001b[?25hCollecting jmespath<2.0.0,>=0.7.1\n",
            "  Downloading jmespath-1.0.1-py3-none-any.whl (20 kB)\n",
            "Requirement already satisfied: python-dateutil<3.0.0,>=2.1 in /usr/local/lib/python3.8/dist-packages (from botocore<1.30.0,>=1.29.30->boto3<2.0,>=1.0->cached-path<1.2.0,>=1.1.3->allennlp>=2.0.0->tner) (2.8.2)\n",
            "Collecting urllib3<1.27,>=1.25.4\n",
            "  Downloading urllib3-1.26.13-py2.py3-none-any.whl (140 kB)\n",
            "\u001b[K     |████████████████████████████████| 140 kB 60.4 MB/s \n",
            "\u001b[?25hRequirement already satisfied: google-resumable-media>=2.3.2 in /usr/local/lib/python3.8/dist-packages (from google-cloud-storage<3.0,>=1.32.0->cached-path<1.2.0,>=1.1.3->allennlp>=2.0.0->tner) (2.4.0)\n",
            "Requirement already satisfied: google-cloud-core<3.0dev,>=2.3.0 in /usr/local/lib/python3.8/dist-packages (from google-cloud-storage<3.0,>=1.32.0->cached-path<1.2.0,>=1.1.3->allennlp>=2.0.0->tner) (2.3.2)\n",
            "Requirement already satisfied: google-api-core!=2.0.*,!=2.1.*,!=2.2.*,!=2.3.0,<3.0.0dev,>=1.31.5 in /usr/local/lib/python3.8/dist-packages (from google-cloud-storage<3.0,>=1.32.0->cached-path<1.2.0,>=1.1.3->allennlp>=2.0.0->tner) (2.8.2)\n",
            "Requirement already satisfied: google-auth<3.0dev,>=1.25.0 in /usr/local/lib/python3.8/dist-packages (from google-cloud-storage<3.0,>=1.32.0->cached-path<1.2.0,>=1.1.3->allennlp>=2.0.0->tner) (2.15.0)\n",
            "Requirement already satisfied: googleapis-common-protos<2.0dev,>=1.56.2 in /usr/local/lib/python3.8/dist-packages (from google-api-core!=2.0.*,!=2.1.*,!=2.2.*,!=2.3.0,<3.0.0dev,>=1.31.5->google-cloud-storage<3.0,>=1.32.0->cached-path<1.2.0,>=1.1.3->allennlp>=2.0.0->tner) (1.57.0)\n",
            "Requirement already satisfied: cachetools<6.0,>=2.0.0 in /usr/local/lib/python3.8/dist-packages (from google-auth<3.0dev,>=1.25.0->google-cloud-storage<3.0,>=1.32.0->cached-path<1.2.0,>=1.1.3->allennlp>=2.0.0->tner) (5.2.0)\n",
            "Requirement already satisfied: rsa<5,>=3.1.4 in /usr/local/lib/python3.8/dist-packages (from google-auth<3.0dev,>=1.25.0->google-cloud-storage<3.0,>=1.32.0->cached-path<1.2.0,>=1.1.3->allennlp>=2.0.0->tner) (4.9)\n",
            "Requirement already satisfied: pyasn1-modules>=0.2.1 in /usr/local/lib/python3.8/dist-packages (from google-auth<3.0dev,>=1.25.0->google-cloud-storage<3.0,>=1.32.0->cached-path<1.2.0,>=1.1.3->allennlp>=2.0.0->tner) (0.2.8)\n",
            "Requirement already satisfied: six>=1.9.0 in /usr/local/lib/python3.8/dist-packages (from google-auth<3.0dev,>=1.25.0->google-cloud-storage<3.0,>=1.32.0->cached-path<1.2.0,>=1.1.3->allennlp>=2.0.0->tner) (1.15.0)\n",
            "Requirement already satisfied: google-crc32c<2.0dev,>=1.0 in /usr/local/lib/python3.8/dist-packages (from google-resumable-media>=2.3.2->google-cloud-storage<3.0,>=1.32.0->cached-path<1.2.0,>=1.1.3->allennlp>=2.0.0->tner) (1.5.0)\n",
            "Requirement already satisfied: packaging>=20.9 in /usr/local/lib/python3.8/dist-packages (from huggingface-hub>=0.0.16->allennlp>=2.0.0->tner) (21.3)\n",
            "Requirement already satisfied: typing-extensions>=3.7.4.3 in /usr/local/lib/python3.8/dist-packages (from huggingface-hub>=0.0.16->allennlp>=2.0.0->tner) (4.4.0)\n",
            "Requirement already satisfied: pyyaml>=5.1 in /usr/local/lib/python3.8/dist-packages (from huggingface-hub>=0.0.16->allennlp>=2.0.0->tner) (6.0)\n",
            "Requirement already satisfied: joblib in /usr/local/lib/python3.8/dist-packages (from nltk>=3.6.5->allennlp>=2.0.0->tner) (1.2.0)\n",
            "Requirement already satisfied: regex>=2021.8.3 in /usr/local/lib/python3.8/dist-packages (from nltk>=3.6.5->allennlp>=2.0.0->tner) (2022.6.2)\n",
            "Requirement already satisfied: click in /usr/local/lib/python3.8/dist-packages (from nltk>=3.6.5->allennlp>=2.0.0->tner) (7.1.2)\n",
            "Requirement already satisfied: pyparsing!=3.0.5,>=2.0.2 in /usr/local/lib/python3.8/dist-packages (from packaging>=20.9->huggingface-hub>=0.0.16->allennlp>=2.0.0->tner) (3.0.9)\n",
            "Requirement already satisfied: pyasn1<0.5.0,>=0.4.6 in /usr/local/lib/python3.8/dist-packages (from pyasn1-modules>=0.2.1->google-auth<3.0dev,>=1.25.0->google-cloud-storage<3.0,>=1.32.0->cached-path<1.2.0,>=1.1.3->allennlp>=2.0.0->tner) (0.4.8)\n",
            "Requirement already satisfied: attrs>=19.2.0 in /usr/local/lib/python3.8/dist-packages (from pytest>=6.2.5->allennlp>=2.0.0->tner) (22.1.0)\n",
            "Collecting pluggy<2.0,>=0.12\n",
            "  Downloading pluggy-1.0.0-py2.py3-none-any.whl (13 kB)\n",
            "Collecting exceptiongroup>=1.0.0rc8\n",
            "  Downloading exceptiongroup-1.0.4-py3-none-any.whl (14 kB)\n",
            "Collecting iniconfig\n",
            "  Downloading iniconfig-1.1.1-py2.py3-none-any.whl (5.0 kB)\n",
            "Requirement already satisfied: tomli>=1.0.0 in /usr/local/lib/python3.8/dist-packages (from pytest>=6.2.5->allennlp>=2.0.0->tner) (2.0.1)\n",
            "Requirement already satisfied: idna<4,>=2.5 in /usr/local/lib/python3.8/dist-packages (from requests>=2.28->allennlp>=2.0.0->tner) (2.10)\n",
            "Requirement already satisfied: charset-normalizer<3,>=2 in /usr/local/lib/python3.8/dist-packages (from requests>=2.28->allennlp>=2.0.0->tner) (2.1.1)\n",
            "Requirement already satisfied: certifi>=2017.4.17 in /usr/local/lib/python3.8/dist-packages (from requests>=2.28->allennlp>=2.0.0->tner) (2022.9.24)\n",
            "Collecting commonmark<0.10.0,>=0.9.0\n",
            "  Downloading commonmark-0.9.1-py2.py3-none-any.whl (51 kB)\n",
            "\u001b[K     |████████████████████████████████| 51 kB 8.6 MB/s \n",
            "\u001b[?25hRequirement already satisfied: pygments<3.0.0,>=2.6.0 in /usr/local/lib/python3.8/dist-packages (from rich<13.0,>=12.1->cached-path<1.2.0,>=1.1.3->allennlp>=2.0.0->tner) (2.6.1)\n",
            "Requirement already satisfied: threadpoolctl>=2.0.0 in /usr/local/lib/python3.8/dist-packages (from scikit-learn>=1.0.1->allennlp>=2.0.0->tner) (3.1.0)\n",
            "Requirement already satisfied: catalogue<2.1.0,>=2.0.6 in /usr/local/lib/python3.8/dist-packages (from spacy<3.4,>=2.1.0->allennlp>=2.0.0->tner) (2.0.8)\n",
            "Requirement already satisfied: spacy-loggers<2.0.0,>=1.0.0 in /usr/local/lib/python3.8/dist-packages (from spacy<3.4,>=2.1.0->allennlp>=2.0.0->tner) (1.0.3)\n",
            "Requirement already satisfied: srsly<3.0.0,>=2.4.3 in /usr/local/lib/python3.8/dist-packages (from spacy<3.4,>=2.1.0->allennlp>=2.0.0->tner) (2.4.5)\n",
            "Requirement already satisfied: pathy>=0.3.5 in /usr/local/lib/python3.8/dist-packages (from spacy<3.4,>=2.1.0->allennlp>=2.0.0->tner) (0.10.0)\n",
            "Collecting pydantic!=1.8,!=1.8.1,<1.9.0,>=1.7.4\n",
            "  Downloading pydantic-1.8.2-cp38-cp38-manylinux2014_x86_64.whl (13.7 MB)\n",
            "\u001b[K     |████████████████████████████████| 13.7 MB 64.8 MB/s \n",
            "\u001b[?25hRequirement already satisfied: spacy-legacy<3.1.0,>=3.0.9 in /usr/local/lib/python3.8/dist-packages (from spacy<3.4,>=2.1.0->allennlp>=2.0.0->tner) (3.0.10)\n",
            "Requirement already satisfied: setuptools in /usr/local/lib/python3.8/dist-packages (from spacy<3.4,>=2.1.0->allennlp>=2.0.0->tner) (57.4.0)\n",
            "Collecting thinc<8.1.0,>=8.0.14\n",
            "  Downloading thinc-8.0.17-cp38-cp38-manylinux_2_17_x86_64.manylinux2014_x86_64.whl (671 kB)\n",
            "\u001b[K     |████████████████████████████████| 671 kB 58.3 MB/s \n",
            "\u001b[?25hCollecting typer>=0.4.1\n",
            "  Downloading typer-0.4.2-py3-none-any.whl (27 kB)\n",
            "Requirement already satisfied: murmurhash<1.1.0,>=0.28.0 in /usr/local/lib/python3.8/dist-packages (from spacy<3.4,>=2.1.0->allennlp>=2.0.0->tner) (1.0.9)\n",
            "Requirement already satisfied: wasabi<1.1.0,>=0.9.1 in /usr/local/lib/python3.8/dist-packages (from spacy<3.4,>=2.1.0->allennlp>=2.0.0->tner) (0.10.1)\n",
            "Requirement already satisfied: cymem<2.1.0,>=2.0.2 in /usr/local/lib/python3.8/dist-packages (from spacy<3.4,>=2.1.0->allennlp>=2.0.0->tner) (2.0.7)\n",
            "Requirement already satisfied: preshed<3.1.0,>=3.0.2 in /usr/local/lib/python3.8/dist-packages (from spacy<3.4,>=2.1.0->allennlp>=2.0.0->tner) (3.0.8)\n",
            "Requirement already satisfied: jinja2 in /usr/local/lib/python3.8/dist-packages (from spacy<3.4,>=2.1.0->allennlp>=2.0.0->tner) (2.11.3)\n",
            "Requirement already satisfied: blis<0.8.0,>=0.4.0 in /usr/local/lib/python3.8/dist-packages (from spacy<3.4,>=2.1.0->allennlp>=2.0.0->tner) (0.7.9)\n",
            "Requirement already satisfied: langcodes<4.0.0,>=3.2.0 in /usr/local/lib/python3.8/dist-packages (from spacy<3.4,>=2.1.0->allennlp>=2.0.0->tner) (3.3.0)\n",
            "Requirement already satisfied: smart-open<6.0.0,>=5.2.1 in /usr/local/lib/python3.8/dist-packages (from pathy>=0.3.5->spacy<3.4,>=2.1.0->allennlp>=2.0.0->tner) (5.2.1)\n",
            "Requirement already satisfied: pillow!=8.3.*,>=5.3.0 in /usr/local/lib/python3.8/dist-packages (from torchvision<0.14.0,>=0.8.1->allennlp>=2.0.0->tner) (7.1.2)\n",
            "Collecting tokenizers!=0.11.3,<0.13,>=0.11.1\n",
            "  Downloading tokenizers-0.12.1-cp38-cp38-manylinux_2_12_x86_64.manylinux2010_x86_64.whl (6.6 MB)\n",
            "\u001b[K     |████████████████████████████████| 6.6 MB 71.3 MB/s \n",
            "\u001b[?25hRequirement already satisfied: promise<3,>=2.0 in /usr/local/lib/python3.8/dist-packages (from wandb<0.13.0,>=0.10.0->allennlp>=2.0.0->tner) (2.3)\n",
            "Collecting sentry-sdk>=1.0.0\n",
            "  Downloading sentry_sdk-1.11.1-py2.py3-none-any.whl (168 kB)\n",
            "\u001b[K     |████████████████████████████████| 168 kB 56.0 MB/s \n",
            "\u001b[?25hRequirement already satisfied: psutil>=5.0.0 in /usr/local/lib/python3.8/dist-packages (from wandb<0.13.0,>=0.10.0->allennlp>=2.0.0->tner) (5.4.8)\n",
            "Collecting shortuuid>=0.5.0\n",
            "  Downloading shortuuid-1.0.11-py3-none-any.whl (10 kB)\n",
            "Collecting GitPython>=1.0.0\n",
            "  Downloading GitPython-3.1.29-py3-none-any.whl (182 kB)\n",
            "\u001b[K     |████████████████████████████████| 182 kB 64.4 MB/s \n",
            "\u001b[?25hCollecting docker-pycreds>=0.4.0\n",
            "  Downloading docker_pycreds-0.4.0-py2.py3-none-any.whl (9.0 kB)\n",
            "Collecting pathtools\n",
            "  Downloading pathtools-0.1.2.tar.gz (11 kB)\n",
            "Collecting setproctitle\n",
            "  Downloading setproctitle-1.3.2-cp38-cp38-manylinux_2_5_x86_64.manylinux1_x86_64.manylinux_2_17_x86_64.manylinux2014_x86_64.whl (31 kB)\n",
            "Collecting gitdb<5,>=4.0.1\n",
            "  Downloading gitdb-4.0.10-py3-none-any.whl (62 kB)\n",
            "\u001b[K     |████████████████████████████████| 62 kB 1.8 MB/s \n",
            "\u001b[?25hCollecting smmap<6,>=3.0.1\n",
            "  Downloading smmap-5.0.0-py3-none-any.whl (24 kB)\n",
            "Requirement already satisfied: fsspec[http]>=2021.11.1 in /usr/local/lib/python3.8/dist-packages (from datasets->tner) (2022.11.0)\n",
            "Requirement already satisfied: aiohttp in /usr/local/lib/python3.8/dist-packages (from datasets->tner) (3.8.3)\n",
            "Collecting xxhash\n",
            "  Downloading xxhash-3.1.0-cp38-cp38-manylinux_2_17_x86_64.manylinux2014_x86_64.whl (212 kB)\n",
            "\u001b[K     |████████████████████████████████| 212 kB 63.6 MB/s \n",
            "\u001b[?25hCollecting multiprocess\n",
            "  Downloading multiprocess-0.70.14-py38-none-any.whl (132 kB)\n",
            "\u001b[K     |████████████████████████████████| 132 kB 62.9 MB/s \n",
            "\u001b[?25hRequirement already satisfied: pyarrow>=6.0.0 in /usr/local/lib/python3.8/dist-packages (from datasets->tner) (9.0.0)\n",
            "Collecting responses<0.19\n",
            "  Downloading responses-0.18.0-py3-none-any.whl (38 kB)\n",
            "Requirement already satisfied: pandas in /usr/local/lib/python3.8/dist-packages (from datasets->tner) (1.3.5)\n",
            "Requirement already satisfied: aiosignal>=1.1.2 in /usr/local/lib/python3.8/dist-packages (from aiohttp->datasets->tner) (1.3.1)\n",
            "Requirement already satisfied: multidict<7.0,>=4.5 in /usr/local/lib/python3.8/dist-packages (from aiohttp->datasets->tner) (6.0.3)\n",
            "Requirement already satisfied: yarl<2.0,>=1.0 in /usr/local/lib/python3.8/dist-packages (from aiohttp->datasets->tner) (1.8.2)\n",
            "Requirement already satisfied: frozenlist>=1.1.1 in /usr/local/lib/python3.8/dist-packages (from aiohttp->datasets->tner) (1.3.3)\n",
            "Requirement already satisfied: async-timeout<5.0,>=4.0.0a3 in /usr/local/lib/python3.8/dist-packages (from aiohttp->datasets->tner) (4.0.2)\n",
            "Requirement already satisfied: MarkupSafe>=0.23 in /usr/local/lib/python3.8/dist-packages (from jinja2->spacy<3.4,>=2.1.0->allennlp>=2.0.0->tner) (2.0.1)\n",
            "Requirement already satisfied: pytz>=2017.3 in /usr/local/lib/python3.8/dist-packages (from pandas->datasets->tner) (2022.6)\n",
            "Building wheels for collected packages: tner, fairscale, termcolor, jsonnet, pathtools, sacremoses, seqeval\n",
            "  Building wheel for tner (setup.py) ... \u001b[?25l\u001b[?25hdone\n",
            "  Created wheel for tner: filename=tner-0.2.1-py3-none-any.whl size=39808 sha256=64b45dec57d5a1271dc64c93f77b643005ad025676e688c76cbc1ccfa8538336\n",
            "  Stored in directory: /root/.cache/pip/wheels/74/38/10/734859480c30b18708a4dbc903f88e4be7ad3ee47a2a42ed7d\n",
            "  Building wheel for fairscale (PEP 517) ... \u001b[?25l\u001b[?25hdone\n",
            "  Created wheel for fairscale: filename=fairscale-0.4.6-py3-none-any.whl size=307251 sha256=1ef9d608381fbf71a3c99ac05fcb5880025816af5098c567f51feb349fe4fee0\n",
            "  Stored in directory: /root/.cache/pip/wheels/77/4c/a4/f6c0eec2ec5c8ffca075e62b0329801f862e1f1b71422f456b\n",
            "  Building wheel for termcolor (setup.py) ... \u001b[?25l\u001b[?25hdone\n",
            "  Created wheel for termcolor: filename=termcolor-1.1.0-py3-none-any.whl size=4849 sha256=00cf7e8148484fcb6bb0cc839f91a0c821d84448ee96aee6d64d1950e59344c2\n",
            "  Stored in directory: /root/.cache/pip/wheels/a0/16/9c/5473df82468f958445479c59e784896fa24f4a5fc024b0f501\n",
            "  Building wheel for jsonnet (setup.py) ... \u001b[?25l\u001b[?25hdone\n",
            "  Created wheel for jsonnet: filename=jsonnet-0.19.1-cp38-cp38-linux_x86_64.whl size=3996114 sha256=4e50fe90f3b1b0803eef04667d4f71058a22b7fa5bdcf4eb04fa99f66699e999\n",
            "  Stored in directory: /root/.cache/pip/wheels/64/ec/56/de861aae102c449ade2378772abbf9eb7e9acfe9a80f3e6036\n",
            "  Building wheel for pathtools (setup.py) ... \u001b[?25l\u001b[?25hdone\n",
            "  Created wheel for pathtools: filename=pathtools-0.1.2-py3-none-any.whl size=8806 sha256=2ad65b9ad2bfa2ada3a1e322ead9e11d1e09971dac1e1a9812a1ae229a1cb102\n",
            "  Stored in directory: /root/.cache/pip/wheels/4c/8e/7e/72fbc243e1aeecae64a96875432e70d4e92f3d2d18123be004\n",
            "  Building wheel for sacremoses (setup.py) ... \u001b[?25l\u001b[?25hdone\n",
            "  Created wheel for sacremoses: filename=sacremoses-0.0.53-py3-none-any.whl size=895260 sha256=16b4e7c8583a7223d31715313044a24185779374336123a3afe6c7c365e4a488\n",
            "  Stored in directory: /root/.cache/pip/wheels/82/ab/9b/c15899bf659ba74f623ac776e861cf2eb8608c1825ddec66a4\n",
            "  Building wheel for seqeval (setup.py) ... \u001b[?25l\u001b[?25hdone\n",
            "  Created wheel for seqeval: filename=seqeval-1.2.2-py3-none-any.whl size=16179 sha256=b77deedd0ef3c041c9f8cb62fafb259d363e015197d87090b8b281d247611cba\n",
            "  Stored in directory: /root/.cache/pip/wheels/ad/5c/ba/05fa33fa5855777b7d686e843ec07452f22a66a138e290e732\n",
            "Successfully built tner fairscale termcolor jsonnet pathtools sacremoses seqeval\n",
            "Installing collected packages: urllib3, requests, jmespath, smmap, botocore, typer, s3transfer, pydantic, gitdb, filelock, commonmark, torch, tokenizers, thinc, shortuuid, setproctitle, sentry-sdk, rich, pluggy, pathtools, iniconfig, huggingface-hub, GitPython, exceptiongroup, docker-pycreds, boto3, xxhash, wandb, transformers, torchvision, termcolor, tensorboardX, spacy, sentencepiece, sacremoses, responses, pytest, multiprocess, lmdb, jsonnet, h5py, fairscale, cached-path, base58, seqeval, datasets, allennlp, tner\n",
            "  Attempting uninstall: urllib3\n",
            "    Found existing installation: urllib3 1.24.3\n",
            "    Uninstalling urllib3-1.24.3:\n",
            "      Successfully uninstalled urllib3-1.24.3\n",
            "  Attempting uninstall: requests\n",
            "    Found existing installation: requests 2.23.0\n",
            "    Uninstalling requests-2.23.0:\n",
            "      Successfully uninstalled requests-2.23.0\n",
            "  Attempting uninstall: typer\n",
            "    Found existing installation: typer 0.7.0\n",
            "    Uninstalling typer-0.7.0:\n",
            "      Successfully uninstalled typer-0.7.0\n",
            "  Attempting uninstall: pydantic\n",
            "    Found existing installation: pydantic 1.10.2\n",
            "    Uninstalling pydantic-1.10.2:\n",
            "      Successfully uninstalled pydantic-1.10.2\n",
            "  Attempting uninstall: filelock\n",
            "    Found existing installation: filelock 3.8.0\n",
            "    Uninstalling filelock-3.8.0:\n",
            "      Successfully uninstalled filelock-3.8.0\n",
            "  Attempting uninstall: torch\n",
            "    Found existing installation: torch 1.13.0+cu116\n",
            "    Uninstalling torch-1.13.0+cu116:\n",
            "      Successfully uninstalled torch-1.13.0+cu116\n",
            "  Attempting uninstall: thinc\n",
            "    Found existing installation: thinc 8.1.5\n",
            "    Uninstalling thinc-8.1.5:\n",
            "      Successfully uninstalled thinc-8.1.5\n",
            "  Attempting uninstall: pluggy\n",
            "    Found existing installation: pluggy 0.7.1\n",
            "    Uninstalling pluggy-0.7.1:\n",
            "      Successfully uninstalled pluggy-0.7.1\n",
            "  Attempting uninstall: torchvision\n",
            "    Found existing installation: torchvision 0.14.0+cu116\n",
            "    Uninstalling torchvision-0.14.0+cu116:\n",
            "      Successfully uninstalled torchvision-0.14.0+cu116\n",
            "  Attempting uninstall: termcolor\n",
            "    Found existing installation: termcolor 2.1.1\n",
            "    Uninstalling termcolor-2.1.1:\n",
            "      Successfully uninstalled termcolor-2.1.1\n",
            "  Attempting uninstall: spacy\n",
            "    Found existing installation: spacy 3.4.3\n",
            "    Uninstalling spacy-3.4.3:\n",
            "      Successfully uninstalled spacy-3.4.3\n",
            "  Attempting uninstall: pytest\n",
            "    Found existing installation: pytest 3.6.4\n",
            "    Uninstalling pytest-3.6.4:\n",
            "      Successfully uninstalled pytest-3.6.4\n",
            "  Attempting uninstall: lmdb\n",
            "    Found existing installation: lmdb 0.99\n",
            "    Uninstalling lmdb-0.99:\n",
            "      Successfully uninstalled lmdb-0.99\n",
            "  Attempting uninstall: h5py\n",
            "    Found existing installation: h5py 3.1.0\n",
            "    Uninstalling h5py-3.1.0:\n",
            "      Successfully uninstalled h5py-3.1.0\n",
            "\u001b[31mERROR: pip's dependency resolver does not currently take into account all the packages that are installed. This behaviour is the source of the following dependency conflicts.\n",
            "torchtext 0.14.0 requires torch==1.13.0, but you have torch 1.12.1 which is incompatible.\n",
            "torchaudio 0.13.0+cu116 requires torch==1.13.0, but you have torch 1.12.1 which is incompatible.\n",
            "en-core-web-sm 3.4.1 requires spacy<3.5.0,>=3.4.0, but you have spacy 3.3.1 which is incompatible.\u001b[0m\n",
            "Successfully installed GitPython-3.1.29 allennlp-2.10.1 base58-2.1.1 boto3-1.26.30 botocore-1.29.30 cached-path-1.1.6 commonmark-0.9.1 datasets-2.7.1 docker-pycreds-0.4.0 exceptiongroup-1.0.4 fairscale-0.4.6 filelock-3.7.1 gitdb-4.0.10 h5py-3.7.0 huggingface-hub-0.10.1 iniconfig-1.1.1 jmespath-1.0.1 jsonnet-0.19.1 lmdb-1.4.0 multiprocess-0.70.14 pathtools-0.1.2 pluggy-1.0.0 pydantic-1.8.2 pytest-7.2.0 requests-2.28.1 responses-0.18.0 rich-12.6.0 s3transfer-0.6.0 sacremoses-0.0.53 sentencepiece-0.1.97 sentry-sdk-1.11.1 seqeval-1.2.2 setproctitle-1.3.2 shortuuid-1.0.11 smmap-5.0.0 spacy-3.3.1 tensorboardX-2.5.1 termcolor-1.1.0 thinc-8.0.17 tner-0.2.1 tokenizers-0.12.1 torch-1.12.1 torchvision-0.13.1 transformers-4.20.1 typer-0.4.2 urllib3-1.26.13 wandb-0.12.21 xxhash-3.1.0\n"
          ]
        }
      ],
      "source": [
        "!pip install tner"
      ]
    },
    {
      "cell_type": "code",
      "source": [
        "!pip install transformers"
      ],
      "metadata": {
        "id": "qxSweBTunz8L",
        "colab": {
          "base_uri": "https://localhost:8080/"
        },
        "outputId": "27e5f3f3-14f0-4a8d-f18d-c92771d5c38f"
      },
      "execution_count": null,
      "outputs": [
        {
          "output_type": "stream",
          "name": "stdout",
          "text": [
            "Looking in indexes: https://pypi.org/simple, https://us-python.pkg.dev/colab-wheels/public/simple/\n",
            "Requirement already satisfied: transformers in /usr/local/lib/python3.8/dist-packages (4.20.1)\n",
            "Requirement already satisfied: pyyaml>=5.1 in /usr/local/lib/python3.8/dist-packages (from transformers) (6.0)\n",
            "Requirement already satisfied: packaging>=20.0 in /usr/local/lib/python3.8/dist-packages (from transformers) (21.3)\n",
            "Requirement already satisfied: regex!=2019.12.17 in /usr/local/lib/python3.8/dist-packages (from transformers) (2022.6.2)\n",
            "Requirement already satisfied: filelock in /usr/local/lib/python3.8/dist-packages (from transformers) (3.7.1)\n",
            "Requirement already satisfied: requests in /usr/local/lib/python3.8/dist-packages (from transformers) (2.28.1)\n",
            "Requirement already satisfied: tokenizers!=0.11.3,<0.13,>=0.11.1 in /usr/local/lib/python3.8/dist-packages (from transformers) (0.12.1)\n",
            "Requirement already satisfied: tqdm>=4.27 in /usr/local/lib/python3.8/dist-packages (from transformers) (4.64.1)\n",
            "Requirement already satisfied: numpy>=1.17 in /usr/local/lib/python3.8/dist-packages (from transformers) (1.21.6)\n",
            "Requirement already satisfied: huggingface-hub<1.0,>=0.1.0 in /usr/local/lib/python3.8/dist-packages (from transformers) (0.10.1)\n",
            "Requirement already satisfied: typing-extensions>=3.7.4.3 in /usr/local/lib/python3.8/dist-packages (from huggingface-hub<1.0,>=0.1.0->transformers) (4.4.0)\n",
            "Requirement already satisfied: pyparsing!=3.0.5,>=2.0.2 in /usr/local/lib/python3.8/dist-packages (from packaging>=20.0->transformers) (3.0.9)\n",
            "Requirement already satisfied: urllib3<1.27,>=1.21.1 in /usr/local/lib/python3.8/dist-packages (from requests->transformers) (1.26.13)\n",
            "Requirement already satisfied: idna<4,>=2.5 in /usr/local/lib/python3.8/dist-packages (from requests->transformers) (2.10)\n",
            "Requirement already satisfied: charset-normalizer<3,>=2 in /usr/local/lib/python3.8/dist-packages (from requests->transformers) (2.1.1)\n",
            "Requirement already satisfied: certifi>=2017.4.17 in /usr/local/lib/python3.8/dist-packages (from requests->transformers) (2022.9.24)\n"
          ]
        }
      ]
    },
    {
      "cell_type": "code",
      "source": [
        "from transformers import AutoTokenizer, AutoModelForSequenceClassification\n",
        "\n",
        "tokenizer = AutoTokenizer.from_pretrained(\"cross-encoder/qnli-distilroberta-base\")\n",
        "qa = AutoModelForSequenceClassification.from_pretrained(\"cross-encoder/qnli-distilroberta-base\")\n",
        "\n"
      ],
      "metadata": {
        "id": "4-L2YD2ctgNk"
      },
      "execution_count": null,
      "outputs": []
    },
    {
      "cell_type": "code",
      "source": [
        "from tner import TransformersNER\n",
        "aer = TransformersNER(\"drive/MyDrive/nlp-course/best_model\", crf=True, label2id={'B-ART': 0, 'I-ART': 1, 'O': 2})"
      ],
      "metadata": {
        "id": "QXdvMX2HlbWS"
      },
      "execution_count": 1,
      "outputs": []
    },
    {
      "cell_type": "code",
      "source": [
        "from pathlib import Path\n",
        "import pickle\n",
        "\n",
        "with open(Path('drive', 'MyDrive', 'nlp-course', 'mystery.pickle'), 'rb') as f:\n",
        "  stories = pickle.load(f)"
      ],
      "metadata": {
        "id": "mFlkQOddoJqY"
      },
      "execution_count": 2,
      "outputs": []
    },
    {
      "cell_type": "code",
      "source": [
        "stories[0][-1]"
      ],
      "metadata": {
        "colab": {
          "base_uri": "https://localhost:8080/",
          "height": 139
        },
        "id": "wIvH_RRwTXVB",
        "outputId": "f1ede107-68a0-42d9-a2db-1dbae92a4e8a"
      },
      "execution_count": 56,
      "outputs": [
        {
          "output_type": "execute_result",
          "data": {
            "text/plain": [
              "'Sherlock Holmes wakes up Dr. Watson early one winter morning to rush to a murder scene at the Abbey Grange near Chislehurst, Kent. Sir Eustace Brackenstall has been killed, apparently by burglars. Inspector Stanley Hopkins believes that it was the infamous Randall gang who have committed several other burglaries in the neighborhood.At Abbey Grange, Lady Brackenstall tells Holmes that her marriage was not happy; Sir Eustace was a violent, abusive drunkard. She then tells that about 11 oclock, in the dining room, she encountered an elderly man coming in the French window, followed by two younger men. The older man struck her in the face, knocking her out. When she came to, she was gagged and tied to an oaken chair with the bellrope, which they had torn down. Sir Eustace came into the room and rushed at the intruders, one of whom struck and killed him with a poker. Lady Brackenstall fainted again for a minute or two. She saw the intruders drinking wine from a bottle taken from the sideboard. Then they left, taking some silver plate.Sir Eustaces corpse is still lying at the murder scene. Hopkins tells Holmes some unsavoury things about Sir Eustace: that he poured petroleum over his wifes dog and set it alight, and once threw a decanter at her maid Theresa. Theresa corroborates Lady Brackenstalls account of Sir Eustace being an abusive alcoholic.Examining the bellrope, Holmes notes that if it was tugged hard enough to tear it down, the bell would have rung in the kitchen, and asks why nobody heard it. Hopkins answers that it was late, and the kitchen is at the back of the house, where none of the servants would have heard. This suggests that the burglars must have known this, indicating a link between them and one of the servants. Oddly, the thieves stole only a few items of silver plate from the dining room. The half-empty wine bottle and glasses interest Holmes - the cork had been drawn with the corkscrew of a \"multiplex knife\", not the long corkscrew in the drawer, and one of the glasses has beeswing dregs in it, but the others have none.Annoyed at being called to investigate a case that apparently has a ready-made solution, Holmes decides to catch the train back to London. However, after having mulled things over during the journey, Holmes thinks that Lady Brackenstalls story has too many holes in it and that probably she and Theresa have lied deliberately, staging a false crime scene. Upon returning to the Abbey Grange, Holmes, after examining again the supposed crime scene, reaches this conclusion: the killer cut the bellrope with a knife, and frayed the loose end to make it look broken. Holmes confronts Lady Brackenstall and Theresa, telling them he knows they are lying and demanding the truth, but they stand by their story. On the way out, Holmes notices a hole in the ice on the pond, and writes a note for Hopkins.Holmes searches for the killer: almost certainly a sailor (indicated by the knots and the active physique) who was previously acquainted with Lady Brackenstall, and whom she and Theresa would protect. Lady Brackenstall traveled by the ocean liner Rock of Gibraltar of the Adelaide-Southampton Line, which is now halfway to Australia. However, the ships first officer, Jack Crocker, who has been promoted to captain, has remained in England and in two days will take command of the companys new ship, Bass Rock. Holmes takes a cab to Scotland Yard but does not go in. He tells Watson he is reluctant to name the criminal to the police until he knows more.That evening, Hopkins calls at 221B Baker Street, with two items of news:As suggested in Holmes note, the stolen silver was found at the bottom of the pond. Holmes suggests that the theft was a blind—a deliberate false clue. However, Hopkins rationalises that the pond was chosen as a temporary hiding place.The Randall gang was arrested in New York that morning, so they couldnt have committed a murder in Kent the previous night.Later that evening, Captain Crocker comes to Baker Street, summoned by a telegram from Holmes. Holmes demands a full account of what happened at the Abbey Grange, warning Crocker that Holmes will summon the police if he lies or conceals anything.Crocker met a woman named Mary (Lady Brackenstall) on the voyage from Australia. He fell in love with her, but not she with him. Then he happened to meet Theresa, who told him of Sir Eustaces abusive behaviour. He met secretly with Mary at the house; the last time on the previous night. They were in the dining room when Sir Eustace burst in, insulted Mary, and struck her with a cudgel. He then attacked Crocker, who killed him with the poker in self-defence. Crocker adds that he has no regret whatever. To avoid the scandal that could ensue, Crocker and Theresa concocted the cover story of burglars caught in the act. He cut down the bellrope exactly as Holmes deduced; he opened the wine bottle with his pocket knifes corkscrew; he took some silver plate and dropped it in the pond.Holmes tells Crocker that the police dont yet know the truth, and that he will wait 24 hours before revealing it, allowing Crocker to get away. Crocker indignantly refuses the offer, insisting that he will only agree to any version of the case that will leave Mary out of it. But Holmes was only testing Crocker, and is impressed by his loyalty to Mary. He has given Hopkins \"an excellent hint\" and doesnt feel he must do more. He designates Watson as the \"jury\", and asks him to \"render a verdict.\" Watson declares Crocker \"not guilty.\" Holmes tells Crocker he will keep silent unless someone else is charged, and that he may come back to Mary in a year.'"
            ],
            "application/vnd.google.colaboratory.intrinsic+json": {
              "type": "string"
            }
          },
          "metadata": {},
          "execution_count": 56
        }
      ]
    },
    {
      "cell_type": "code",
      "source": [
        "story = stories[0][-1]\n",
        "story = story.split('.')\n",
        "\n",
        "context = 10\n",
        "story = ['.'.join(story[max(0,i-context):i+context]) for i in range(len(story))]"
      ],
      "metadata": {
        "id": "QnKu8LwP4p6k"
      },
      "execution_count": 53,
      "outputs": []
    },
    {
      "cell_type": "code",
      "source": [
        "from tqdm import tqdm\n",
        "\n",
        "aers = []\n",
        "for window in story[0:-context]:\n",
        "  aers.extend(aer.predict([window])['entity_prediction'])\n",
        "\n"
      ],
      "metadata": {
        "colab": {
          "base_uri": "https://localhost:8080/"
        },
        "id": "PUjyUYh_8Myi",
        "outputId": "38a5e07e-eeee-44d3-8a35-e302983c5543"
      },
      "execution_count": 54,
      "outputs": [
        {
          "output_type": "stream",
          "name": "stderr",
          "text": [
            "100%|██████████| 1/1 [00:02<00:00,  2.94s/it]\n",
            "100%|██████████| 1/1 [00:02<00:00,  2.39s/it]\n",
            "100%|██████████| 1/1 [00:02<00:00,  2.53s/it]\n",
            "100%|██████████| 1/1 [00:02<00:00,  2.18s/it]\n",
            "100%|██████████| 1/1 [00:01<00:00,  1.81s/it]\n",
            "100%|██████████| 1/1 [00:01<00:00,  1.87s/it]\n",
            "100%|██████████| 1/1 [00:01<00:00,  1.69s/it]\n",
            "100%|██████████| 1/1 [00:01<00:00,  1.68s/it]\n",
            "100%|██████████| 1/1 [00:01<00:00,  1.66s/it]\n",
            "100%|██████████| 1/1 [00:01<00:00,  1.68s/it]\n",
            "100%|██████████| 1/1 [00:01<00:00,  1.68s/it]\n",
            "100%|██████████| 1/1 [00:01<00:00,  1.68s/it]\n",
            "100%|██████████| 1/1 [00:01<00:00,  1.69s/it]\n",
            "100%|██████████| 1/1 [00:01<00:00,  1.70s/it]\n",
            "100%|██████████| 1/1 [00:01<00:00,  1.68s/it]\n",
            "100%|██████████| 1/1 [00:01<00:00,  1.71s/it]\n",
            "100%|██████████| 1/1 [00:01<00:00,  1.68s/it]\n",
            "100%|██████████| 1/1 [00:01<00:00,  1.68s/it]\n",
            "100%|██████████| 1/1 [00:01<00:00,  1.69s/it]\n",
            "100%|██████████| 1/1 [00:01<00:00,  1.68s/it]\n",
            "100%|██████████| 1/1 [00:01<00:00,  1.66s/it]\n",
            "100%|██████████| 1/1 [00:01<00:00,  1.69s/it]\n",
            "100%|██████████| 1/1 [00:01<00:00,  1.68s/it]\n",
            "100%|██████████| 1/1 [00:01<00:00,  1.67s/it]\n",
            "100%|██████████| 1/1 [00:01<00:00,  1.66s/it]\n",
            "100%|██████████| 1/1 [00:01<00:00,  1.67s/it]\n",
            "100%|██████████| 1/1 [00:01<00:00,  1.69s/it]\n",
            "100%|██████████| 1/1 [00:01<00:00,  1.67s/it]\n",
            "100%|██████████| 1/1 [00:01<00:00,  1.68s/it]\n",
            "100%|██████████| 1/1 [00:01<00:00,  1.69s/it]\n",
            "100%|██████████| 1/1 [00:01<00:00,  1.70s/it]\n",
            "100%|██████████| 1/1 [00:01<00:00,  1.69s/it]\n",
            "100%|██████████| 1/1 [00:01<00:00,  1.69s/it]\n",
            "100%|██████████| 1/1 [00:01<00:00,  1.68s/it]\n",
            "100%|██████████| 1/1 [00:01<00:00,  1.67s/it]\n",
            "100%|██████████| 1/1 [00:01<00:00,  1.68s/it]\n",
            "100%|██████████| 1/1 [00:01<00:00,  1.67s/it]\n",
            "100%|██████████| 1/1 [00:01<00:00,  1.68s/it]\n",
            "100%|██████████| 1/1 [00:01<00:00,  1.67s/it]\n",
            "100%|██████████| 1/1 [00:01<00:00,  1.69s/it]\n",
            "100%|██████████| 1/1 [00:01<00:00,  1.67s/it]\n",
            "100%|██████████| 1/1 [00:01<00:00,  1.69s/it]\n",
            "100%|██████████| 1/1 [00:01<00:00,  1.68s/it]\n"
          ]
        }
      ]
    },
    {
      "cell_type": "code",
      "source": [
        "filtered_aers = sum(aers, start=[])\n",
        "filtered_aers = list(set(map(lambda v: ' '.join(v['entity']), filter(lambda v: sum(v['probability'])/len(v['probability']) > 0.9, filtered_aers))))\n",
        "\n",
        "filtered_aers = list(set(filtered_aers))\n",
        "filtered_aers"
      ],
      "metadata": {
        "colab": {
          "base_uri": "https://localhost:8080/"
        },
        "id": "-MIKTG8dPbiN",
        "outputId": "48251ea9-a05d-4efb-b70f-f79d80a83a40"
      },
      "execution_count": 55,
      "outputs": [
        {
          "output_type": "execute_result",
          "data": {
            "text/plain": [
              "['',\n",
              " 'Captain Crocker',\n",
              " 'Holmes,',\n",
              " 'the',\n",
              " 'wine bottle and glasses',\n",
              " 'the bellrope,',\n",
              " 'killed',\n",
              " 'a',\n",
              " 'long corkscrew',\n",
              " 'Lady Brackenstall and',\n",
              " 'the cork',\n",
              " 'that',\n",
              " 'with',\n",
              " 'about Sir Eustace:',\n",
              " 'corpse',\n",
              " 'the bellrope',\n",
              " 'bellrope,',\n",
              " 'Lady Brackenstall',\n",
              " 'older',\n",
              " 'Crocker',\n",
              " 'him',\n",
              " 'pond.',\n",
              " 'pond',\n",
              " 'bellrope',\n",
              " 'Lady Brackenstall,',\n",
              " 'warning Crocker',\n",
              " 'Hopkins',\n",
              " 'Holmes',\n",
              " 'Lady Brackenstalls',\n",
              " 'the corkscrew']"
            ]
          },
          "metadata": {},
          "execution_count": 55
        }
      ]
    },
    {
      "cell_type": "code",
      "source": [
        "import torch\n",
        "input = tokenizer(['Does Lady Breckenstall interact with the chair?'], [''.join(story[:10])], padding=True, truncation=True, return_tensors=\"pt\")\n",
        "\n",
        "qa.eval()\n",
        "with torch.no_grad():\n",
        "    scores = torch.sigmoid(qa(**input).logits)\n",
        "    print(scores)"
      ],
      "metadata": {
        "colab": {
          "base_uri": "https://localhost:8080/"
        },
        "id": "VOsFf-HVuoq5",
        "outputId": "f130f3d7-8ce7-4692-f50e-edbdd1bfa067"
      },
      "execution_count": null,
      "outputs": [
        {
          "output_type": "stream",
          "name": "stdout",
          "text": [
            "tensor([[0.6856]])\n"
          ]
        }
      ]
    }
  ]
}