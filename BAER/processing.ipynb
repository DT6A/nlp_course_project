{
 "cells": [
  {
   "cell_type": "code",
   "execution_count": 16,
   "id": "e232410c",
   "metadata": {},
   "outputs": [],
   "source": [
    "import re\n",
    "\n",
    "import numpy as np\n",
    "\n",
    "from sklearn.model_selection import train_test_split"
   ]
  },
  {
   "cell_type": "code",
   "execution_count": 28,
   "id": "86ad75bc",
   "metadata": {},
   "outputs": [],
   "source": [
    "lines = []\n",
    "with open(\"BAER.txt\", \"r\") as f:\n",
    "    for l in f:\n",
    "        lines.append(re.findall(r\"[\\w']+|[.,!?;\\[\\]]\", l))"
   ]
  },
  {
   "cell_type": "code",
   "execution_count": 29,
   "id": "6df5aef9",
   "metadata": {},
   "outputs": [],
   "source": [
    "idxs = np.arange(len(lines))\n",
    "X_train_idx, X_val_idx = train_test_split(idxs, test_size=0.1, random_state=0)"
   ]
  },
  {
   "cell_type": "code",
   "execution_count": 55,
   "id": "41576228",
   "metadata": {},
   "outputs": [],
   "source": [
    "def format_data(lines):\n",
    "    neg_label = \"O\"\n",
    "    pos_label_s = \"B-ART\"\n",
    "    pos_label = \"I-ART\"\n",
    "    prev_ex = False\n",
    "    label = neg_label\n",
    "\n",
    "    data = []\n",
    "    for l in lines:\n",
    "        new_l = []\n",
    "        for w in l:\n",
    "            if w == \"[\":\n",
    "                label = pos_label_s\n",
    "            elif w == \"]\":\n",
    "                label = neg_label\n",
    "                prev_ex = False\n",
    "            else:\n",
    "                if label == pos_label_s:\n",
    "                    if prev_ex:\n",
    "                        label = pos_label\n",
    "                    prev_ex = True\n",
    "                    \n",
    "                new_l.append(f\"{w} {label}\\n\")\n",
    "        new_l.append(\"\\n\\n\")\n",
    "        data += new_l\n",
    "    return data"
   ]
  },
  {
   "cell_type": "code",
   "execution_count": 56,
   "id": "20a269be",
   "metadata": {},
   "outputs": [],
   "source": [
    "with open(\"all_data.txt\", \"w\") as f:\n",
    "    f.writelines(format_data(lines))"
   ]
  },
  {
   "cell_type": "code",
   "execution_count": 57,
   "id": "46fa242e",
   "metadata": {},
   "outputs": [],
   "source": [
    "X_train = [lines[i] for i in X_train_idx]\n",
    "X_val = [lines[i] for i in X_val_idx]"
   ]
  },
  {
   "cell_type": "code",
   "execution_count": 58,
   "id": "31ff89d7",
   "metadata": {},
   "outputs": [],
   "source": [
    "with open(\"train.txt\", \"w\") as f:\n",
    "    f.writelines(format_data(X_train))\n",
    "\n",
    "with open(\"valid.txt\", \"w\") as f:\n",
    "    f.writelines(format_data(X_val))"
   ]
  },
  {
   "cell_type": "code",
   "execution_count": null,
   "id": "b3362900",
   "metadata": {},
   "outputs": [],
   "source": []
  },
  {
   "cell_type": "code",
   "execution_count": null,
   "id": "1789f4f8",
   "metadata": {},
   "outputs": [],
   "source": []
  }
 ],
 "metadata": {
  "kernelspec": {
   "display_name": "Python 3 (ipykernel)",
   "language": "python",
   "name": "python3"
  },
  "language_info": {
   "codemirror_mode": {
    "name": "ipython",
    "version": 3
   },
   "file_extension": ".py",
   "mimetype": "text/x-python",
   "name": "python",
   "nbconvert_exporter": "python",
   "pygments_lexer": "ipython3",
   "version": "3.8.10"
  }
 },
 "nbformat": 4,
 "nbformat_minor": 5
}
